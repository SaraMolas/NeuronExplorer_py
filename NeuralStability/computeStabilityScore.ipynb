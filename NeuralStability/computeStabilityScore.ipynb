{
 "cells": [
  {
   "cell_type": "markdown",
   "metadata": {},
   "source": [
    "Script to calculate stability score of each place cell recorded in each session and store it as a new variable\n",
   ]
  },
  {
   "cell_type": "code",
   "execution_count": null,
   "metadata": {},
   "outputs": [],
   "source": [
    "# 1. Import packages\n",
    "\n",
    "from tkinter import filedialog\n",
    "import numpy as np\n",
    "import pandas as pd\n",
    "from scipy.stats import pearsonr\n",
    "import seaborn as sns\n",
    "import matplotlib.pyplot as plt"
   ]
  },
  {
   "cell_type": "code",
   "execution_count": null,
   "metadata": {},
   "outputs": [],
   "source": [
    "# 2. Specify directory and save table with information of all recorded sessions\n",
    "\n",
    "directory = filedialog.askdirectory()\n",
    "print(\"Selected directory:\", directory)\n",
    "\n",
    "recordingsTable = pd.read_csv (\"D:\\Sara\\ConcatenatedFiles\\DataAnalysis2IR_finalVersionNew15.csv\") # rows = number of sessions, this table contains all the information of each session such as mouse number, recording day, session type"
   ]
  },
  {
   "cell_type": "code",
   "execution_count": null,
   "metadata": {},
   "outputs": [],
   "source": [
    "# 3. Iterate over sessions, by iterating over the rows of the table\n",
    "allStabScores = []\n",
    "for day in range(0, recordingsTable.shape[0]): \n",
    "    \n",
    "    if recordingsTable['sessions'][day]== 2: # if it's a sleep session, skip\n",
    "        continue\n",
    "\n",
    "    if recordingsTable['useIncompleteSessions'][day] == 0: # if it's a data-damaged session, skip\n",
    "        continue\n",
    "\n",
    "    # 4. Load data for this session\n",
    "    filepath = recordingsTable['output_path'][day]  # extract the filepath for this session\n",
    "    mouse = recordingsTable['mice'][day] # extract the mouse name\n",
    "    date = recordingsTable['dates'][day] # extract the date\n",
    "    session = recordingsTable['sessions'][day] # extract the session number\n",
    "    print(\"working on data from: \" + str(filepath))\n",
    "\n",
    "    ratemaps = np.load(directory + filepath + \"/Analysis/forPython/ratemapsTrials_session_\" + str(session) + '.npy') # dimension 1 = cell number, dimension 2 = spatial bins, dimension 3 = trials\n",
    "    cellLabels = np.load(directory + filepath + \"/Analysis/forPython/cellInfo_session_\" + str(session) + '.npy') # rows = number of cells, column 1 = cell ID, column 2 = place cell (True or False)\n",
    "\n",
    "    # 5. Compute stability score for each cell in this session \n",
    "    stabilityScores = []\n",
    "    for cell in range(0, ratemaps.shape[0]): \n",
    "        if cellLabels[cell,1] == 0: # if it's not a place cell, skip this neuron \n",
    "            stabilityScores.append(np.nan)\n",
    "            continue \n",
    "        ratemapOdd = np.nanmean(ratemaps[cell,:,::2], axis = 1) # get the mean ratemap from odd trials\n",
    "        ratemapEven = np.nanmean(ratemaps[cell,:,1::2], axis = 1) # get the mean ratemap from even trials\n",
    "        score = pearsonr(ratemapOdd, ratemapEven)\n",
    "        stabilityScores.append(score)\n",
    "\n",
    "    # 6. Store stability scores\n",
    "    np.save(directory + filepath + \"/Analysis/forPython/stabilityScores\" + str(session) + '.npy', stabilityScores) # save stability scores\n",
    "    allStabScores.append(stabilityScores) # store all stability scores in another variable for plotting in the next step"
   ]
  },
  {
   "cell_type": "code",
   "execution_count": null,
   "metadata": {},
   "outputs": [],
   "source": [
    "# 7. Plot distribution of stability score of all recorded cells\n",
    "\n",
    "# 7.1. Create histogram using Seaborn\n",
    "sns.histplot(allStabScores, bins=10, kde=False, color='blue')\n",
    "\n",
    "# 7.2. Add labels and title\n",
    "plt.xlabel('Stability Score')\n",
    "plt.ylabel('Frequency')\n",
    "plt.title('Histogram of place cell stability')\n",
    "\n",
    "# 7.3. Save plot (first ask in which folder to save figure) and show\n",
    "directory_fig = filedialog.askdirectory()\n",
    "if directory_fig:\n",
    "    print(\"Selected directory to save figure:\", directory_fig)\n",
    "plt.savefig(directory_fig + 'distribution_stability.png', dpi=300, bbox_inches='tight')\n",
    "plt.show()"
   ]
  }
 ],
 "metadata": {
  "kernelspec": {
   "display_name": "Python 3",
   "language": "python",
   "name": "python3"
  },
  "language_info": {
   "codemirror_mode": {
    "name": "ipython",
    "version": 3
   },
   "file_extension": ".py",
   "mimetype": "text/x-python",
   "name": "python",
   "nbconvert_exporter": "python",
   "pygments_lexer": "ipython3",
   "version": "3.9.13"
  }
 },
 "nbformat": 4,
 "nbformat_minor": 2
}
